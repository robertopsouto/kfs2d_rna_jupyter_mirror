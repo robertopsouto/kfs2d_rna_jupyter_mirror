{
 "cells": [
  {
   "cell_type": "markdown",
   "metadata": {
    "kernel": "SoS"
   },
   "source": [
    "# Exemplo de como obter a RNA para emular FK no problema de Shalow Water 2D"
   ]
  },
  {
   "cell_type": "code",
   "execution_count": 1,
   "metadata": {
    "kernel": "SoS"
   },
   "outputs": [
    {
     "name": "stdout",
     "output_type": "stream",
     "text": [
      "Cloning into 'kfs2d_rna_mirror'...\n",
      "remote: Enumerating objects: 171, done.\u001b[K\n",
      "remote: Counting objects: 100% (171/171), done.\u001b[K\n",
      "remote: Compressing objects: 100% (101/101), done.\u001b[K\n",
      "remote: Total 171 (delta 80), reused 157 (delta 66), pack-reused 0\u001b[K\n",
      "Receiving objects: 100% (171/171), 152.75 KiB | 294.00 KiB/s, done.\n",
      "Resolving deltas: 100% (80/80), done.\n"
     ]
    }
   ],
   "source": [
    "# Baixa o código KFS2d_rna (shallow water assimilado por FK e RNA) a partir do repositório espelho do github\n",
    "!git clone https://github.com/robertopsouto/kfs2d_rna_mirror.git"
   ]
  },
  {
   "cell_type": "code",
   "execution_count": 2,
   "metadata": {
    "kernel": "SoS"
   },
   "outputs": [
    {
     "name": "stdout",
     "output_type": "stream",
     "text": [
      "/home/rpsouto/projetos/g-assimila/gitlab/g-assimila/shallow-water/kfs2d_rna_jupyter/kfs2d_rna_mirror"
     ]
    }
   ],
   "source": [
    "# Entra no diretório principal do código de shalow water\n",
    "%cd kfs2d_rna_mirror"
   ]
  },
  {
   "cell_type": "code",
   "execution_count": 3,
   "metadata": {
    "kernel": "SoS"
   },
   "outputs": [
    {
     "name": "stdout",
     "output_type": "stream",
     "text": [
      "gfortran -O2 -c -g ./src/kfsFunctions.f90\n",
      "gfortran -O2 -c -g ./src/KFS2d.f90\n",
      "gfortran -o ./KFS2d kfsFunctions.o KFS2d.o -llapack -lblas -g -fcheck=all -Wall -fbacktrace\n"
     ]
    }
   ],
   "source": [
    "# Compilando o código\n",
    "!make"
   ]
  },
  {
   "cell_type": "code",
   "execution_count": 4,
   "metadata": {
    "kernel": "SoS"
   },
   "outputs": [
    {
     "name": "stdout",
     "output_type": "stream",
     "text": [
      " ./KFS2d 1 10 10 200 10 2 2 0.1 10\n",
      " command_argument_count():            9\n",
      " freqObsX: 2     \n",
      " freqObsY: 2     \n",
      " percNoise: 0.1   \n",
      " neuronNumber: 10    \n",
      " SALVOU CONDICAO INICIAL - qInitialCondExpA.out\n",
      " SALVOU RESULTADO DA INTEGRACAO DO MODELO - qModelExpA.out\n",
      " Gerou o ruido que sera adicionado ao modelo - gerando as observacoes \n",
      " SALVOU AS OBSERVACOES -- MODELO + Rand - qObservExpA.out\n",
      " Inicializou a freqAssim\n",
      " Inicializando as matrizes 1\n",
      " Inicializando as matrizes 2\n",
      " Inicializando as matrizes 3\n",
      " Inicializando as matrizes 4\n",
      " Inicializando as matrizes 5\n",
      " Inicializando as matrizes 6\n",
      " Inicializando as matrizes 7\n",
      " Inicializando as matrizes 8\n",
      " Inicializando as matrizes 9\n",
      " Inicializando as matrizes 10\n",
      " Completando as matrizes com valores apropriados\n",
      " FK Assimilation cycle - timeStep          10\n",
      " Primeira chamada dgemm\n",
      " Passou pela equacao 3.60\n",
      " Segunda chamada dgemm\n",
      " Terceira chamada dgemm\n",
      " Invertendo matriz\n",
      " Store A in Ainv\n",
      " Ainv = A\n",
      " call DGETRF\n",
      " Quarta chamada dgemm\n",
      " Quinta chamada dgemm\n",
      " Passou pela equacao 3.61\n",
      " Passou pela equacao 3.62\n",
      " Passou pela equacao 3.63\n",
      " passou pela equacao 3.64\n",
      " FK Assimilation time:    1.6441919999999999               10\n",
      " FK Assimilation cycle - timeStep          20\n",
      " Primeira chamada dgemm\n",
      " Passou pela equacao 3.60\n",
      " Segunda chamada dgemm\n",
      " Terceira chamada dgemm\n",
      " Invertendo matriz\n",
      " Store A in Ainv\n",
      " Ainv = A\n",
      " call DGETRF\n",
      " Quarta chamada dgemm\n",
      " Quinta chamada dgemm\n",
      " Passou pela equacao 3.61\n",
      " Passou pela equacao 3.62\n",
      " Passou pela equacao 3.63\n",
      " passou pela equacao 3.64\n",
      " FK Assimilation time:   0.77829299999999968               20\n",
      " FK Assimilation cycle - timeStep          30\n",
      " Primeira chamada dgemm\n",
      " Passou pela equacao 3.60\n",
      " Segunda chamada dgemm\n",
      " Terceira chamada dgemm\n",
      " Invertendo matriz\n",
      " Store A in Ainv\n",
      " Ainv = A\n",
      " call DGETRF\n",
      " Quarta chamada dgemm\n",
      " Quinta chamada dgemm\n",
      " Passou pela equacao 3.61\n",
      " Passou pela equacao 3.62\n",
      " Passou pela equacao 3.63\n",
      " passou pela equacao 3.64\n",
      " FK Assimilation time:   0.52676800000000013               30\n",
      " FK Assimilation cycle - timeStep          40\n",
      " Primeira chamada dgemm\n",
      " Passou pela equacao 3.60\n",
      " Segunda chamada dgemm\n",
      " Terceira chamada dgemm\n",
      " Invertendo matriz\n",
      " Store A in Ainv\n",
      " Ainv = A\n",
      " call DGETRF\n",
      " Quarta chamada dgemm\n",
      " Quinta chamada dgemm\n",
      " Passou pela equacao 3.61\n",
      " Passou pela equacao 3.62\n",
      " Passou pela equacao 3.63\n",
      " passou pela equacao 3.64\n",
      " FK Assimilation time:   0.36413999999999991               40\n",
      " FK Assimilation cycle - timeStep          50\n",
      " Primeira chamada dgemm\n",
      " Passou pela equacao 3.60\n",
      " Segunda chamada dgemm\n",
      " Terceira chamada dgemm\n",
      " Invertendo matriz\n",
      " Store A in Ainv\n",
      " Ainv = A\n",
      " call DGETRF\n",
      " Quarta chamada dgemm\n",
      " Quinta chamada dgemm\n",
      " Passou pela equacao 3.61\n",
      " Passou pela equacao 3.62\n",
      " Passou pela equacao 3.63\n",
      " passou pela equacao 3.64\n",
      " FK Assimilation time:   0.45316799999999979               50\n",
      " FK Assimilation cycle - timeStep          60\n",
      " Primeira chamada dgemm\n",
      " Passou pela equacao 3.60\n",
      " Segunda chamada dgemm\n",
      " Terceira chamada dgemm\n",
      " Invertendo matriz\n",
      " Store A in Ainv\n",
      " Ainv = A\n",
      " call DGETRF\n",
      " Quarta chamada dgemm\n",
      " Quinta chamada dgemm\n",
      " Passou pela equacao 3.61\n",
      " Passou pela equacao 3.62\n",
      " Passou pela equacao 3.63\n",
      " passou pela equacao 3.64\n",
      " FK Assimilation time:   0.67334799999999984               60\n",
      " FK Assimilation cycle - timeStep          70\n",
      " Primeira chamada dgemm\n",
      " Passou pela equacao 3.60\n",
      " Segunda chamada dgemm\n",
      " Terceira chamada dgemm\n",
      " Invertendo matriz\n",
      " Store A in Ainv\n",
      " Ainv = A\n",
      " call DGETRF\n",
      " Quarta chamada dgemm\n",
      " Quinta chamada dgemm\n",
      " Passou pela equacao 3.61\n",
      " Passou pela equacao 3.62\n",
      " Passou pela equacao 3.63\n",
      " passou pela equacao 3.64\n",
      " FK Assimilation time:   0.75655400000000039               70\n",
      " FK Assimilation cycle - timeStep          80\n",
      " Primeira chamada dgemm\n",
      " Passou pela equacao 3.60\n",
      " Segunda chamada dgemm\n",
      " Terceira chamada dgemm\n",
      " Invertendo matriz\n",
      " Store A in Ainv\n",
      " Ainv = A\n",
      " call DGETRF\n",
      " Quarta chamada dgemm\n",
      " Quinta chamada dgemm\n",
      " Passou pela equacao 3.61\n",
      " Passou pela equacao 3.62\n",
      " Passou pela equacao 3.63\n",
      " passou pela equacao 3.64\n",
      " FK Assimilation time:   0.43474099999999982               80\n",
      " FK Assimilation cycle - timeStep          90\n",
      " Primeira chamada dgemm\n",
      " Passou pela equacao 3.60\n",
      " Segunda chamada dgemm\n",
      " Terceira chamada dgemm\n",
      " Invertendo matriz\n",
      " Store A in Ainv\n",
      " Ainv = A\n",
      " call DGETRF\n",
      " Quarta chamada dgemm\n",
      " Quinta chamada dgemm\n",
      " Passou pela equacao 3.61\n",
      " Passou pela equacao 3.62\n",
      " Passou pela equacao 3.63\n",
      " passou pela equacao 3.64\n",
      " FK Assimilation time:   0.55409699999999962               90\n",
      " FK Assimilation cycle - timeStep         100\n",
      " Primeira chamada dgemm\n",
      " Passou pela equacao 3.60\n",
      " Segunda chamada dgemm\n",
      " Terceira chamada dgemm\n",
      " Invertendo matriz\n",
      " Store A in Ainv\n",
      " Ainv = A\n",
      " call DGETRF\n",
      " Quarta chamada dgemm\n",
      " Quinta chamada dgemm\n",
      " Passou pela equacao 3.61\n",
      " Passou pela equacao 3.62\n",
      " Passou pela equacao 3.63\n",
      " passou pela equacao 3.64\n",
      " FK Assimilation time:   0.44394400000000012              100\n",
      " FK Assimilation cycle - timeStep         110\n",
      " Primeira chamada dgemm\n",
      " Passou pela equacao 3.60\n",
      " Segunda chamada dgemm\n",
      " Terceira chamada dgemm\n",
      " Invertendo matriz\n",
      " Store A in Ainv\n",
      " Ainv = A\n",
      " call DGETRF\n",
      " Quarta chamada dgemm\n",
      " Quinta chamada dgemm\n",
      " Passou pela equacao 3.61\n",
      " Passou pela equacao 3.62\n",
      " Passou pela equacao 3.63\n",
      " passou pela equacao 3.64\n",
      " FK Assimilation time:   0.63111600000000045              110\n",
      " FK Assimilation cycle - timeStep         120\n",
      " Primeira chamada dgemm\n",
      " Passou pela equacao 3.60\n",
      " Segunda chamada dgemm\n",
      " Terceira chamada dgemm\n",
      " Invertendo matriz\n",
      " Store A in Ainv\n",
      " Ainv = A\n",
      " call DGETRF\n",
      " Quarta chamada dgemm\n",
      " Quinta chamada dgemm\n",
      " Passou pela equacao 3.61\n",
      " Passou pela equacao 3.62\n",
      " Passou pela equacao 3.63\n",
      " passou pela equacao 3.64\n",
      " FK Assimilation time:   0.48492899999999928              120\n",
      " FK Assimilation cycle - timeStep         130\n",
      " Primeira chamada dgemm\n",
      " Passou pela equacao 3.60\n",
      " Segunda chamada dgemm\n",
      " Terceira chamada dgemm\n",
      " Invertendo matriz\n",
      " Store A in Ainv\n",
      " Ainv = A\n",
      " call DGETRF\n",
      " Quarta chamada dgemm\n",
      " Quinta chamada dgemm\n",
      " Passou pela equacao 3.61\n",
      " Passou pela equacao 3.62\n",
      " Passou pela equacao 3.63\n",
      " passou pela equacao 3.64\n",
      " FK Assimilation time:   0.55129499999999965              130\n",
      " FK Assimilation cycle - timeStep         140\n",
      " Primeira chamada dgemm\n",
      " Passou pela equacao 3.60\n",
      " Segunda chamada dgemm\n",
      " Terceira chamada dgemm\n",
      " Invertendo matriz\n",
      " Store A in Ainv\n",
      " Ainv = A\n",
      " call DGETRF\n",
      " Quarta chamada dgemm\n",
      " Quinta chamada dgemm\n",
      " Passou pela equacao 3.61\n",
      " Passou pela equacao 3.62\n",
      " Passou pela equacao 3.63\n",
      " passou pela equacao 3.64\n",
      " FK Assimilation time:   0.47956200000000138              140\n",
      " FK Assimilation cycle - timeStep         150\n",
      " Primeira chamada dgemm\n",
      " Passou pela equacao 3.60\n",
      " Segunda chamada dgemm\n",
      " Terceira chamada dgemm\n",
      " Invertendo matriz\n",
      " Store A in Ainv\n",
      " Ainv = A\n",
      " call DGETRF\n",
      " Quarta chamada dgemm\n",
      " Quinta chamada dgemm\n",
      " Passou pela equacao 3.61\n",
      " Passou pela equacao 3.62\n",
      " Passou pela equacao 3.63\n",
      " passou pela equacao 3.64\n",
      " FK Assimilation time:   0.42037499999999994              150\n",
      " FK Assimilation cycle - timeStep         160\n",
      " Primeira chamada dgemm\n",
      " Passou pela equacao 3.60\n",
      " Segunda chamada dgemm\n",
      " Terceira chamada dgemm\n",
      " Invertendo matriz\n",
      " Store A in Ainv\n",
      " Ainv = A\n",
      " call DGETRF\n",
      " Quarta chamada dgemm\n",
      " Quinta chamada dgemm\n",
      " Passou pela equacao 3.61\n",
      " Passou pela equacao 3.62\n",
      " Passou pela equacao 3.63\n",
      " passou pela equacao 3.64\n",
      " FK Assimilation time:   0.62003500000000145              160\n",
      " FK Assimilation cycle - timeStep         170\n",
      " Primeira chamada dgemm\n",
      " Passou pela equacao 3.60\n",
      " Segunda chamada dgemm\n",
      " Terceira chamada dgemm\n",
      " Invertendo matriz\n",
      " Store A in Ainv\n",
      " Ainv = A\n",
      " call DGETRF\n",
      " Quarta chamada dgemm\n",
      " Quinta chamada dgemm\n",
      " Passou pela equacao 3.61\n",
      " Passou pela equacao 3.62\n",
      " Passou pela equacao 3.63\n",
      " passou pela equacao 3.64\n",
      " FK Assimilation time:   0.80477600000000038              170\n",
      " FK Assimilation cycle - timeStep         180\n",
      " Primeira chamada dgemm\n",
      " Passou pela equacao 3.60\n",
      " Segunda chamada dgemm\n",
      " Terceira chamada dgemm\n",
      " Invertendo matriz\n",
      " Store A in Ainv\n",
      " Ainv = A\n",
      " call DGETRF\n",
      " Quarta chamada dgemm\n",
      " Quinta chamada dgemm\n",
      " Passou pela equacao 3.61\n",
      " Passou pela equacao 3.62\n",
      " Passou pela equacao 3.63\n",
      " passou pela equacao 3.64\n",
      " FK Assimilation time:   0.36671399999999998              180\n",
      " FK Assimilation cycle - timeStep         190\n"
     ]
    },
    {
     "name": "stdout",
     "output_type": "stream",
     "text": [
      " Primeira chamada dgemm\n",
      " Passou pela equacao 3.60\n",
      " Segunda chamada dgemm\n",
      " Terceira chamada dgemm\n",
      " Invertendo matriz\n",
      " Store A in Ainv\n",
      " Ainv = A\n",
      " call DGETRF\n",
      " Quarta chamada dgemm\n",
      " Quinta chamada dgemm\n",
      " Passou pela equacao 3.61\n",
      " Passou pela equacao 3.62\n",
      " Passou pela equacao 3.63\n",
      " passou pela equacao 3.64\n",
      " FK Assimilation time:   0.40669199999999961              190\n",
      " FK Assimilation cycle - timeStep         200\n",
      " Primeira chamada dgemm\n",
      " Passou pela equacao 3.60\n",
      " Segunda chamada dgemm\n",
      " Terceira chamada dgemm\n",
      " Invertendo matriz\n",
      " Store A in Ainv\n",
      " Ainv = A\n",
      " call DGETRF\n",
      " Quarta chamada dgemm\n",
      " Quinta chamada dgemm\n",
      " Passou pela equacao 3.61\n",
      " Passou pela equacao 3.62\n",
      " Passou pela equacao 3.63\n",
      " passou pela equacao 3.64\n",
      " FK Assimilation time:   0.38351699999999944              200\n",
      " Total Process time:    12.541253000000001     \n",
      " FIM\n",
      "Copiando o resultado da assimilacao por FK e os dados para treinamento da RNA.\n"
     ]
    }
   ],
   "source": [
    "# Roda o shell script que chama o executável compilado na célula anterior\n",
    "# Usa filtro de Kalman para fazer a assimilação de dados a cada 10 passos no tempo.\n",
    "# O ruído no dado de observação é de 10%\n",
    "# Uso:\n",
    "# ./run-KFS2d.sh assimType gridX gridY timeStep freqObsT freqObsX freqObsY percNoise neuronNumber\n",
    "\n",
    "!./run-KFS2d.sh 1 10 10 200 10 2 2 0.1 10"
   ]
  },
  {
   "cell_type": "code",
   "execution_count": 5,
   "metadata": {
    "kernel": "SoS"
   },
   "outputs": [
    {
     "name": "stdout",
     "output_type": "stream",
     "text": [
      "/home/rpsouto/projetos/g-assimila/gitlab/g-assimila/shallow-water/kfs2d_rna_jupyter/kfs2d_rna_mirror/output/training"
     ]
    }
   ],
   "source": [
    "# Indo para o diretório com o dados que serão usados para treinar a RNA, por meio do MPCA\n",
    "%cd output/training/"
   ]
  },
  {
   "cell_type": "markdown",
   "metadata": {
    "kernel": "SoS"
   },
   "source": [
    "## Script `Octave` que normaliza os valores do modelo, da observação e da análise (obtida com a assimilação de dados). São gerados os arquivos de treinamento (`x.txt` e `y.txt`) de validação cruzada (`x_valid.txt` e `y_valid.txt`) e de generalização (`x_gen.txt` e `y_gen.txt`), que serão os dados de entrada para o `MPCA-ANN`."
   ]
  },
  {
   "cell_type": "code",
   "execution_count": 6,
   "metadata": {
    "kernel": "Octave"
   },
   "outputs": [],
   "source": [
    "%--------------------------------------------------------------------------\n",
    "% programa para normalizar os valores da variavel para usar no treinamento da RNA/MPCA\n",
    "%--------------------------------------------------------------------------\n",
    "clear all;\n",
    "close all; clc;\n",
    "%-----------------------\n",
    "%leitura dos dados\n",
    "%-----------------------\n",
    "qM = load('qModelExpA.out');\n",
    "qO = load('qObservExpA.out');\n",
    "qA = load('qAnalysisExpA.out');\n",
    "\n",
    "valNormInf=-1.0;\n",
    "valNormSup=+1.0;\n",
    "\n",
    "qM_norm=(max(qM)*valNormInf-min(qM)*valNormSup+qM*(valNormSup-valNormInf))/(max(qM)-min(qM));\n",
    "qO_norm=(max(qO)*valNormInf-min(qO)*valNormSup+qO*(valNormSup-valNormInf))/(max(qO)-min(qO));\n",
    "qA_norm=(max(qA)*valNormInf-min(qA)*valNormSup+qA*(valNormSup-valNormInf))/(max(qA)-min(qA));\n",
    "\n",
    "[l,n]=size(qM);\n",
    "pontos_por_ciclo=25;\n",
    "\n",
    "parc1 = 10*pontos_por_ciclo; % ciclos para treinamento\n",
    "parc2 =  2*pontos_por_ciclo; % ciclos para validação cruzada\n",
    "parc3 =  4*pontos_por_ciclo; % clicos para generelização\n",
    "\n",
    "train_range=parc1;\n",
    "valid_init=train_range+1;\n",
    "valid_end=train_range+parc2;\n",
    "gen_init=valid_end+1;\n",
    "gen_end=valid_end+parc3;;\n",
    "\n",
    "fileID = fopen('x.txt','w');\n",
    "fprintf(fileID,'      %8.5f',qM_norm(1:train_range));\n",
    "fprintf(fileID,'\\n');\n",
    "fclose(fileID);\n",
    "fileID = fopen('x.txt','a');\n",
    "fprintf(fileID,'      %8.5f',qO_norm(1:train_range));\n",
    "fprintf(fileID,'\\n');\n",
    "fclose(fileID);\n",
    "fileID = fopen('y.txt','w');\n",
    "fprintf(fileID,'      %8.5f',qA_norm(1:train_range));\n",
    "fprintf(fileID,'\\n');\n",
    "fclose(fileID);\n",
    "\n",
    "fileID = fopen('x_valid.txt','w');\n",
    "fprintf(fileID,'      %8.5f',qM_norm(valid_init:valid_end));\n",
    "fprintf(fileID,'\\n');\n",
    "fclose(fileID);\n",
    "fileID = fopen('x_valid.txt','a');\n",
    "fprintf(fileID,'      %8.5f',qO_norm(valid_init:valid_end));\n",
    "fprintf(fileID,'\\n');\n",
    "fclose(fileID);\n",
    "fileID = fopen('y_valid.txt','w');\n",
    "fprintf(fileID,'      %8.5f',qA_norm(valid_init:valid_end));\n",
    "fprintf(fileID,'\\n');\n",
    "fclose(fileID);\n",
    "\n",
    "fileID = fopen('x_gen.txt','w');\n",
    "fprintf(fileID,'      %8.5f',qM_norm(gen_init:gen_end));\n",
    "fprintf(fileID,'\\n');\n",
    "fclose(fileID);\n",
    "fileID = fopen('x_gen.txt','a');\n",
    "fprintf(fileID,'      %8.5f',qO_norm(gen_init:gen_end));\n",
    "fprintf(fileID,'\\n');\n",
    "fclose(fileID);\n",
    "fileID = fopen('y_gen.txt','w');\n",
    "fprintf(fileID,'      %8.5f',qA_norm(gen_init:gen_end));\n",
    "fprintf(fileID,'\\n');\n",
    "fclose(fileID);\n"
   ]
  },
  {
   "cell_type": "code",
   "execution_count": 7,
   "metadata": {
    "kernel": "Octave"
   },
   "outputs": [
    {
     "name": "stdout",
     "output_type": "stream",
     "text": [
      "parc1 = 250\r\n"
     ]
    }
   ],
   "source": [
    "parc1"
   ]
  },
  {
   "cell_type": "code",
   "execution_count": 8,
   "metadata": {
    "kernel": "Octave"
   },
   "outputs": [
    {
     "name": "stdout",
     "output_type": "stream",
     "text": [
      "parc2 = 50\r\n"
     ]
    }
   ],
   "source": [
    "parc2"
   ]
  },
  {
   "cell_type": "code",
   "execution_count": 9,
   "metadata": {
    "kernel": "Octave"
   },
   "outputs": [
    {
     "name": "stdout",
     "output_type": "stream",
     "text": [
      "parc3 = 100\r\n"
     ]
    }
   ],
   "source": [
    "parc3"
   ]
  },
  {
   "cell_type": "code",
   "execution_count": 10,
   "metadata": {
    "kernel": "SoS"
   },
   "outputs": [
    {
     "name": "stdout",
     "output_type": "stream",
     "text": [
      "total 60\n",
      "-rw-rw-r-- 1 rpsouto rpsouto   71 abr 26 15:13 README.md\n",
      "-rw-rw-r-- 1 rpsouto rpsouto 2235 abr 26 15:13 normalizar.m\n",
      "-rw-rw-r-- 1 rpsouto rpsouto 8001 abr 26 15:13 qAnalysisExpA.out\n",
      "-rw-rw-r-- 1 rpsouto rpsouto 8001 abr 26 15:13 qObservExpA.out\n",
      "-rw-rw-r-- 1 rpsouto rpsouto 8001 abr 26 15:13 qModelExpA.out\n",
      "-rw-rw-r-- 1 rpsouto rpsouto 7002 abr 26 15:15 x.txt\n",
      "-rw-rw-r-- 1 rpsouto rpsouto 3501 abr 26 15:15 y.txt\n",
      "-rw-rw-r-- 1 rpsouto rpsouto 1402 abr 26 15:15 x_valid.txt\n",
      "-rw-rw-r-- 1 rpsouto rpsouto  701 abr 26 15:15 y_valid.txt\n",
      "-rw-rw-r-- 1 rpsouto rpsouto 2802 abr 26 15:15 x_gen.txt\n",
      "-rw-rw-r-- 1 rpsouto rpsouto 1401 abr 26 15:15 y_gen.txt\n"
     ]
    }
   ],
   "source": [
    "!ls -ltr"
   ]
  },
  {
   "cell_type": "code",
   "execution_count": 11,
   "metadata": {
    "kernel": "SoS"
   },
   "outputs": [
    {
     "name": "stdout",
     "output_type": "stream",
     "text": [
      "/home/rpsouto/projetos/g-assimila/gitlab/g-assimila/shallow-water/kfs2d_rna_jupyter"
     ]
    }
   ],
   "source": [
    "%cd ../../../"
   ]
  },
  {
   "cell_type": "code",
   "execution_count": 12,
   "metadata": {
    "kernel": "SoS"
   },
   "outputs": [
    {
     "name": "stdout",
     "output_type": "stream",
     "text": [
      "Cloning into 'mpca-ann'...\n",
      "remote: Enumerating objects: 320, done.\u001b[K\n",
      "remote: Counting objects: 100% (138/138), done.\u001b[K\n",
      "remote: Compressing objects: 100% (115/115), done.\u001b[K\n",
      "remote: Total 320 (delta 58), reused 79 (delta 23), pack-reused 182\u001b[K\n",
      "Receiving objects: 100% (320/320), 2.07 MiB | 547.00 KiB/s, done.\n",
      "Resolving deltas: 100% (118/118), done.\n"
     ]
    }
   ],
   "source": [
    "# Baixa o código do mpac-ann do repositório github\n",
    "!git clone https://github.com/scsr-inpe/mpca-ann.git"
   ]
  },
  {
   "cell_type": "code",
   "execution_count": 13,
   "metadata": {
    "kernel": "SoS"
   },
   "outputs": [
    {
     "name": "stdout",
     "output_type": "stream",
     "text": [
      "/home/rpsouto/projetos/g-assimila/gitlab/g-assimila/shallow-water/kfs2d_rna_jupyter/mpca-ann"
     ]
    }
   ],
   "source": [
    "# Entra no diretório principal do código\n",
    "%cd mpca-ann"
   ]
  },
  {
   "cell_type": "code",
   "execution_count": 14,
   "metadata": {
    "kernel": "SoS"
   },
   "outputs": [
    {
     "name": "stdout",
     "output_type": "stream",
     "text": [
      "mpif90 -c -O3 -g src/foul.f90 -o build/foul.o\n",
      "\u001b[01m\u001b[Ksrc/foul.f90:588:0:\u001b[m\u001b[K\n",
      "\n",
      "                               exponent_string\n",
      " \n",
      "\u001b[01;35m\u001b[KWarning:\u001b[m\u001b[K ‘\u001b[01m\u001b[K__builtin_memset\u001b[m\u001b[K’: specified size between 18446744071562067969 and 18446744073709551615 exceeds maximum object size 9223372036854775807 [\u001b[01;35m\u001b[K-Wstringop-overflow=\u001b[m\u001b[K]\n",
      "mpif90 -c -O3 -g src/newTypes.f90 -o build/newTypes.o\n",
      "mpif90 -c -O3 -g src/uniformR8.f90 -o build/uniformR8.o\n",
      "mpif90 -c -O3 -g src/normalR8.f90 -o build/normalR8.o\n",
      "mpif90 -c -O3 -g src/annTraining.f90 -o build/annTraining.o\n",
      "mpif90 -c -O3 -g src/mpcaFunctions.f90 -o build/mpcaFunctions.o\n",
      "mpif90 -c -O3 -g src/mpca.f90 -o build/mpca.o\n",
      "mpif90 -c -O3 -g src/annActivation.f90 -o build/annActivation.o\n",
      "mpif90 -c -O3 -g src/annGeneralization.f90 -o build/annGeneralization.o\n",
      "mpif90 -c -O3 -g src/main_generalization.f90 -o build/main_generalization.o\n",
      "mpif90 -c -O3 -g src/main_activation.f90 -o build/main_activation.o\n",
      "mpif90 -O3 -g -o annMPCA build/foul.o build/uniformR8.o build/newTypes.o build/normalR8.o build/annTraining.o build/mpcaFunctions.o build/mpca.o\n",
      "mpif90 -O3 -g -o annMLP build/foul.o build/newTypes.o build/annGeneralization.o build/main_generalization.o\n",
      "mpif90 -O3 -g -o annActivation build/foul.o build/newTypes.o build/annActivation.o build/main_activation.o\n"
     ]
    }
   ],
   "source": [
    "# Compila o código \n",
    "!make"
   ]
  },
  {
   "cell_type": "code",
   "execution_count": 15,
   "metadata": {
    "kernel": "SoS"
   },
   "outputs": [],
   "source": [
    "# Copia os arquivos de treinamento, de validação cruzada e de generalização gerados anteriormente no k, para o diretório 'data' do mpca-ann\n",
    "!cp ../kfs2d_rna_mirror/output/training/*.txt data/"
   ]
  },
  {
   "cell_type": "code",
   "execution_count": 16,
   "metadata": {
    "kernel": "SoS"
   },
   "outputs": [
    {
     "name": "stdout",
     "output_type": "stream",
     "text": [
      "/home/rpsouto/projetos/g-assimila/gitlab/g-assimila/shallow-water/kfs2d_rna_jupyter/mpca-ann/config"
     ]
    }
   ],
   "source": [
    "# Entra no diretório config, para editar os arquivos de configuração do mpca-ann\n",
    "%cd config/"
   ]
  },
  {
   "cell_type": "code",
   "execution_count": 17,
   "metadata": {
    "kernel": "SoS"
   },
   "outputs": [],
   "source": [
    "# Edita o arquivo original configuration.ini tal que:\n",
    "#    NCLASSES seja igual ao número de pontos de treinamento em x.txt e y.txt (dado pela variável parc1) \n",
    "#    NCLASSESVALIDATION seja igual ao número de pontos de validação em x_valid.txt e y_valid.txt (dado pela variável parc2)\n",
    "#    UPPER_HIDDEN_LAYERS=1 seja igual a LOW_HIDDEN_LAYERS=1, para forçar que a arquitetura da rede tenha somente uma camada\n",
    "#    LOWER_FIRST_HIDDEN_LAYER=UPPER_FIRST_HIDDEN_LAYER=10, para forçar que esta camana tenha exatamente 10 neurônios\n",
    "#    LOWER_ACTIVATION_FUNCTION=UPPER_ACTIVATION_FUNCTION=2, para forçar que se use com função de ativação a tangente hiperbólica\n",
    "\n",
    "!sed -i -e 's/NCLASSES=2000/NCLASSES=250/g' \\\n",
    "        -e 's/NCLASSESVALIDATION=600/NCLASSESVALIDATION=50/g' \\\n",
    "        -e 's/UPPER_HIDDEN_LAYERS=2/UPPER_HIDDEN_LAYERS=1/g' \\\n",
    "        -e 's/LOWER_FIRST_HIDDEN_LAYER=5/LOWER_FIRST_HIDDEN_LAYER=10/g' \\\n",
    "        -e 's/UPPER_FIRST_HIDDEN_LAYER=25/UPPER_FIRST_HIDDEN_LAYER=10/g' \\\n",
    "        -e 's/LOWER_ACTIVATION_FUNCTION=1/LOWER_ACTIVATION_FUNCTION=2/g' \\\n",
    "        -e 's/UPPER_ACTIVATION_FUNCTION=3/UPPER_ACTIVATION_FUNCTION=2/g' \\\n",
    "        configuration.ini"
   ]
  },
  {
   "cell_type": "code",
   "execution_count": 19,
   "metadata": {
    "kernel": "SoS"
   },
   "outputs": [],
   "source": [
    "# Edita o arquivo original annConfig.ini, \n",
    "# para que o número de classes seja igual ao número de pontos generalização em x_gen.txt e y_gen.txt\n",
    "\n",
    "!sed -i -e 's/600/100/g' annConfig.in"
   ]
  },
  {
   "cell_type": "code",
   "execution_count": 20,
   "metadata": {
    "kernel": "SoS"
   },
   "outputs": [
    {
     "name": "stdout",
     "output_type": "stream",
     "text": [
      "/home/rpsouto/projetos/g-assimila/gitlab/g-assimila/shallow-water/kfs2d_rna_jupyter/mpca-ann"
     ]
    }
   ],
   "source": [
    "# Retorna para o diretório do script MPCA-ANN\n",
    "\n",
    "%cd .."
   ]
  },
  {
   "cell_type": "code",
   "execution_count": 22,
   "metadata": {
    "kernel": "SoS"
   },
   "outputs": [
    {
     "name": "stdout",
     "output_type": "stream",
     "text": [
      "make: Nothing to be done for 'all'.\n",
      "\u001b[H\u001b[2J           1\n",
      "\u001b[0;1m************************************************************\u001b[m\n",
      "\n",
      "\u001b[0;1m                       \u001b[0mExperiment   1\u001b[0;1m                       \u001b[m\n",
      "\n",
      "\u001b[0;1m************************************************************\u001b[m\n",
      "\n",
      "           2\n",
      "           1\n",
      "           1\n",
      "           1\n",
      "           2\n",
      "           2\n",
      "           2\n",
      "NFE (total):                 1000 of       1000\n",
      "\u001b[0;1mBest objective function value: \u001b[0m4.1593 x (10^ -2)\u001b[m\n",
      "\u001b[0;1mNumber of hidden layers: \u001b[0m 1\u001b[m\n",
      "\u001b[0;1mNeurons in hidden layer 1: \u001b[0m10\u001b[m\n",
      "\u001b[0;1mActivation function: \u001b[0m 2\u001b[m\n",
      "\u001b[0;1mAlpha: \u001b[0m0.5200\u001b[m\n",
      "\u001b[0;1mEta: \u001b[0m0.8609\u001b[m\n",
      "\u001b[0;1;4m                                                            \u001b[m\n",
      "\u001b[0m                                                            \u001b[0m\u001b[m\n"
     ]
    }
   ],
   "source": [
    "# Roda e script com 1 Experimento, usando 4 Processos MPI\n",
    "\n",
    "!./runMPCA 1 4"
   ]
  },
  {
   "cell_type": "code",
   "execution_count": 23,
   "metadata": {
    "kernel": "SoS"
   },
   "outputs": [
    {
     "name": "stdout",
     "output_type": "stream",
     "text": [
      "           1\n",
      "           4\n",
      "         100\n",
      "           2\n",
      "           1\n",
      "           1\n",
      "          10\n",
      "           0\n",
      "           2\n",
      " ./output/ann1_1.out\n",
      "   4.1593320000000003E-002\n",
      "   4.1518520000000003E-002\n",
      " ./output/ann1_2.out\n",
      "   4.1593320000000003E-002\n",
      "   4.2894820000000000E-002\n",
      " ./output/ann1_3.out\n",
      "   4.1593320000000003E-002\n",
      "   4.1624950000000001E-002\n",
      " ./output/ann1_4.out\n",
      "   4.1593320000000003E-002\n",
      "   4.2049669999999997E-002\n"
     ]
    }
   ],
   "source": [
    "# Roda esta etapa para obter a solução que possui o menor valor da função objetivo com relação aos dados de generalização\n",
    "\n",
    "!./annMLP 1 4"
   ]
  },
  {
   "cell_type": "code",
   "execution_count": 24,
   "metadata": {
    "kernel": "SoS"
   },
   "outputs": [],
   "source": [
    "# Copia o arquivo ann#.best, relativo ao experimento que obteve no menor erro na etapa de generalização, para o diretório data\n",
    "\n",
    "!cp output/ann1.best ../kfs2d_rna_mirror/data/ann.best"
   ]
  },
  {
   "cell_type": "code",
   "execution_count": 25,
   "metadata": {
    "kernel": "SoS"
   },
   "outputs": [
    {
     "name": "stdout",
     "output_type": "stream",
     "text": [
      "/home/rpsouto/projetos/g-assimila/gitlab/g-assimila/shallow-water/kfs2d_rna_jupyter/kfs2d_rna_mirror/data"
     ]
    }
   ],
   "source": [
    "# Entra no diretório data\n",
    "\n",
    "%cd ../kfs2d_rna_mirror/data/"
   ]
  },
  {
   "cell_type": "code",
   "execution_count": 26,
   "metadata": {
    "kernel": "SoS"
   },
   "outputs": [],
   "source": [
    "# Roda o shell script que extrai a informação dos pesos e vies do arquivo ann.best\n",
    "# São gerados 4 arquivos: wqcsExpA.dat  wqcoExpA.dat  bqcsExpA.dat  bqcoExpA.dat\n",
    "# Estes 4 arquivos serão lidos pelo kfs2d, para emular o FK por RNA \n",
    "\n",
    "!./pesos_vies.sh ann.best"
   ]
  },
  {
   "cell_type": "code",
   "execution_count": 27,
   "metadata": {
    "kernel": "SoS"
   },
   "outputs": [
    {
     "name": "stdout",
     "output_type": "stream",
     "text": [
      "total 28\n",
      "-rw-rw-r-- 1 rpsouto rpsouto  40 abr 26 15:13 README.md\n",
      "-rwxrwxr-x 1 rpsouto rpsouto 279 abr 26 15:13 pesos_vies.sh\n",
      "-rw-rw-r-- 1 rpsouto rpsouto 688 abr 26 15:18 ann.best\n",
      "-rw-rw-r-- 1 rpsouto rpsouto 222 abr 26 15:18 wqcoExpA.dat\n",
      "-rw-rw-r-- 1 rpsouto rpsouto 120 abr 26 15:18 wqcsExpA.dat\n",
      "-rw-rw-r-- 1 rpsouto rpsouto  12 abr 26 15:18 bqcsExpA.dat\n",
      "-rw-rw-r-- 1 rpsouto rpsouto 111 abr 26 15:18 bqcoExpA.dat\n"
     ]
    }
   ],
   "source": [
    "!ls -ltr"
   ]
  },
  {
   "cell_type": "code",
   "execution_count": 28,
   "metadata": {
    "kernel": "SoS"
   },
   "outputs": [
    {
     "name": "stdout",
     "output_type": "stream",
     "text": [
      "/home/rpsouto/projetos/g-assimila/gitlab/g-assimila/shallow-water/kfs2d_rna_jupyter/kfs2d_rna_mirror"
     ]
    }
   ],
   "source": [
    "%cd ../"
   ]
  },
  {
   "cell_type": "code",
   "execution_count": 29,
   "metadata": {
    "kernel": "SoS"
   },
   "outputs": [
    {
     "name": "stdout",
     "output_type": "stream",
     "text": [
      " ./KFS2d 2 10 10 200 10 2 2 0.1 10\n",
      " command_argument_count():            9\n",
      " freqObsX: 2     \n",
      " freqObsY: 2     \n",
      " percNoise: 0.1   \n",
      " neuronNumber: 10    \n",
      " SALVOU CONDICAO INICIAL - qInitialCondExpA.out\n",
      " SALVOU RESULTADO DA INTEGRACAO DO MODELO - qModelExpA.out\n",
      " Gerou o ruido que sera adicionado ao modelo - gerando as observacoes \n",
      " SALVOU AS OBSERVACOES -- MODELO + Rand - qObservExpA.out\n",
      " Inicializou a freqAssim\n",
      " Inicializando as matrizes 1\n",
      " Inicializando as matrizes 2\n",
      " Inicializando as matrizes 3\n",
      " Inicializando as matrizes 4\n",
      " Inicializando as matrizes 5\n",
      " Inicializando as matrizes 6\n",
      " Inicializando as matrizes 7\n",
      " Inicializando as matrizes 8\n",
      " Inicializando as matrizes 9\n",
      " Inicializando as matrizes 10\n",
      " Completando as matrizes com valores apropriados\n",
      " Normalizando os dados para RNA\n",
      " ANN Assimilation cycle - timeStep          10\n",
      " TUDO PRONTO PARA A RNA\n",
      " PASSAMOS PELA RNA\n",
      " ANN Assimilation time:    9.0430000000000232E-003          10\n",
      " ANN Assimilation cycle - timeStep          20\n",
      " TUDO PRONTO PARA A RNA\n",
      " PASSAMOS PELA RNA\n",
      " ANN Assimilation time:    8.8599999999994239E-004          20\n",
      " ANN Assimilation cycle - timeStep          30\n",
      " TUDO PRONTO PARA A RNA\n",
      " PASSAMOS PELA RNA\n",
      " ANN Assimilation time:    5.6000000000000494E-004          30\n",
      " ANN Assimilation cycle - timeStep          40\n",
      " TUDO PRONTO PARA A RNA\n",
      " PASSAMOS PELA RNA\n",
      " ANN Assimilation time:    7.1300000000007469E-004          40\n",
      " ANN Assimilation cycle - timeStep          50\n",
      " TUDO PRONTO PARA A RNA\n",
      " PASSAMOS PELA RNA\n",
      " ANN Assimilation time:    3.4899999999993270E-004          50\n",
      " ANN Assimilation cycle - timeStep          60\n",
      " TUDO PRONTO PARA A RNA\n",
      " PASSAMOS PELA RNA\n",
      " ANN Assimilation time:    5.0400000000005996E-004          60\n",
      " ANN Assimilation cycle - timeStep          70\n",
      " TUDO PRONTO PARA A RNA\n",
      " PASSAMOS PELA RNA\n",
      " ANN Assimilation time:    6.6500000000002668E-004          70\n",
      " ANN Assimilation cycle - timeStep          80\n",
      " TUDO PRONTO PARA A RNA\n",
      " PASSAMOS PELA RNA\n",
      " ANN Assimilation time:    3.4307000000000087E-002          80\n",
      " ANN Assimilation cycle - timeStep          90\n",
      " TUDO PRONTO PARA A RNA\n",
      " PASSAMOS PELA RNA\n",
      " ANN Assimilation time:    3.3489999999999354E-003          90\n",
      " ANN Assimilation cycle - timeStep         100\n",
      " TUDO PRONTO PARA A RNA\n",
      " PASSAMOS PELA RNA\n",
      " ANN Assimilation time:    7.6299999999995816E-004         100\n",
      " ANN Assimilation cycle - timeStep         110\n",
      " TUDO PRONTO PARA A RNA\n",
      " PASSAMOS PELA RNA\n",
      " ANN Assimilation time:    6.2700000000004419E-004         110\n",
      " ANN Assimilation cycle - timeStep         120\n",
      " TUDO PRONTO PARA A RNA\n",
      " PASSAMOS PELA RNA\n",
      " ANN Assimilation time:    4.5700000000004071E-004         120\n",
      " ANN Assimilation cycle - timeStep         130\n",
      " TUDO PRONTO PARA A RNA\n",
      " PASSAMOS PELA RNA\n",
      " ANN Assimilation time:    1.1711000000000027E-002         130\n",
      " ANN Assimilation cycle - timeStep         140\n",
      " TUDO PRONTO PARA A RNA\n",
      " PASSAMOS PELA RNA\n",
      " ANN Assimilation time:    2.8740000000000432E-003         140\n",
      " ANN Assimilation cycle - timeStep         150\n",
      " TUDO PRONTO PARA A RNA\n",
      " PASSAMOS PELA RNA\n",
      " ANN Assimilation time:    8.1649999999999778E-003         150\n",
      " ANN Assimilation cycle - timeStep         160\n",
      " TUDO PRONTO PARA A RNA\n",
      " PASSAMOS PELA RNA\n",
      " ANN Assimilation time:    1.0110000000000952E-003         160\n",
      " ANN Assimilation cycle - timeStep         170\n",
      " TUDO PRONTO PARA A RNA\n",
      " PASSAMOS PELA RNA\n",
      " ANN Assimilation time:    2.4170000000000025E-003         170\n",
      " ANN Assimilation cycle - timeStep         180\n",
      " TUDO PRONTO PARA A RNA\n",
      " PASSAMOS PELA RNA\n",
      " ANN Assimilation time:    1.2909999999999311E-003         180\n",
      " ANN Assimilation cycle - timeStep         190\n",
      " TUDO PRONTO PARA A RNA\n",
      " PASSAMOS PELA RNA\n",
      " ANN Assimilation time:    1.9439999999999458E-003         190\n",
      " ANN Assimilation cycle - timeStep         200\n",
      " TUDO PRONTO PARA A RNA\n",
      " PASSAMOS PELA RNA\n",
      " ANN Assimilation time:    2.3070000000000590E-003         200\n",
      " Total Process time:   0.80045999999999995     \n",
      " FIM\n",
      "Copiando o resultado da assimilacao de FK emulada por RNA.\n"
     ]
    }
   ],
   "source": [
    "# Roda o shell script que chama o executável compilado na célula anterior\n",
    "# Usa RNA para emular FK na assimilação de dados, a cada 10 passos no tempo.\n",
    "# Uso:\n",
    "# ./run-KFS2d.sh assimType gridX gridY timeStep freqObsT freqObsX freqObsY percNoise neuronNumber\n",
    "\n",
    "!./run-KFS2d.sh 2 10 10 200 10 2 2 0.1 10"
   ]
  },
  {
   "cell_type": "code",
   "execution_count": 30,
   "metadata": {
    "kernel": "SoS"
   },
   "outputs": [
    {
     "name": "stdout",
     "output_type": "stream",
     "text": [
      "/home/rpsouto/projetos/g-assimila/gitlab/g-assimila/shallow-water/kfs2d_rna_jupyter/kfs2d_rna_mirror/output/full"
     ]
    }
   ],
   "source": [
    "# Entra no diretório onde o resultado da análise obtido com a assimilação por RNA está salvo\n",
    "\n",
    "%cd output/full/"
   ]
  },
  {
   "cell_type": "markdown",
   "metadata": {
    "kernel": "SoS"
   },
   "source": [
    "## Script `Octave` que gera figura comparando as curvas do modelo (verdade), da análise obtida por assimilação com filtro de Kalman (FK), e também da análise obtida por assimilação com rede neural emulando filtro de Kalman (RNA)."
   ]
  },
  {
   "cell_type": "code",
   "execution_count": 31,
   "metadata": {
    "kernel": "Octave"
   },
   "outputs": [
    {
     "name": "stdout",
     "output_type": "stream",
     "text": [
      "ans = -9.5540\n",
      "warning: your version of GraphicsMagick limits images to 8 bits per pixel\n"
     ]
    },
    {
     "data": {
      "image/png": "[encoded data removed]",
      "text/plain": [
       "<IPython.core.display.Image object>"
      ]
     },
     "metadata": {},
     "output_type": "display_data"
    }
   ],
   "source": [
    "%--------------------------------------------------------------------------\n",
    "% programa para plotar os graficos\n",
    "%--------------------------------------------------------------------------\n",
    "clear all;\n",
    "close all; clc;\n",
    "%-----------------------\n",
    "%leitura dos dados\n",
    "%-----------------------\n",
    "qm = load('qModelExpA.out');\n",
    "qa = load('qAnalysisExpA.out');\n",
    "% dado da rede\n",
    "qar = load('qAnalysisExpA_RNA.out');\n",
    "%\n",
    "ni = 10;\n",
    "nj = ni;\n",
    "nk = 200;\n",
    "%\n",
    "ninj = ni*nj;\n",
    "p = 7; % ponto\n",
    "%\n",
    "% dado do modelo\n",
    "qm3D = reshape(qm,ni,nj,nk);\n",
    "qpm10 = qm3D(p,p,:);\n",
    "qpm10v = qpm10(:);\n",
    "%\n",
    "%valor estimado pelo Filtro de Kalman\n",
    "qafk3D = reshape(qa,ni,nj,nk);\n",
    "qpa10 = qafk3D(p,p,:);\n",
    "qpa10v = qpa10(:);\n",
    "%\n",
    "%estimado pela Rede Neural\n",
    " qr3D = reshape(qar,ni,nj,nk);\n",
    " qpr10 = qr3D(p,p,:);\n",
    " qpr10v = qpr10(:);\n",
    "%\n",
    "figure(1)\n",
    "plot(qpm10v,'b','linewidth',1.5); hold on;\n",
    "plot(qpa10v,'r','linewidth',1.5);\n",
    "plot(qpr10v,'g','linewidth',1.5);\n",
    "title('variavel q'); grid on;\n",
    "xlabel('tempo');\n",
    "ylabel('q(7,7)');\n",
    "legend('verdade','FK','RNA')\n",
    "axis([1 nk -60 80])\n",
    "%print -depsc variavelqExpA.eps;\n",
    "print -dpng -r240 variavelqExpA.png;"
   ]
  },
  {
   "cell_type": "code",
   "execution_count": 32,
   "metadata": {
    "kernel": "SoS"
   },
   "outputs": [
    {
     "name": "stdout",
     "output_type": "stream",
     "text": [
      "total 1312\n",
      "-rw-rw-r-- 1 rpsouto rpsouto     78 abr 26 15:13 README.md\n",
      "-rw-rw-r-- 1 rpsouto rpsouto   1080 abr 26 15:13 fkFigura.m\n",
      "-rw-rw-r-- 1 rpsouto rpsouto 320001 abr 26 15:13 qAnalysisExpA.out\n",
      "-rw-rw-r-- 1 rpsouto rpsouto 320001 abr 26 15:18 qModelExpA.out\n",
      "-rw-rw-r-- 1 rpsouto rpsouto 320001 abr 26 15:18 qObservExpA.out\n",
      "-rw-rw-r-- 1 rpsouto rpsouto 320001 abr 26 15:18 qAnalysisExpA_RNA.out\n",
      "-rw-rw-r-- 1 rpsouto rpsouto  40903 abr 26 15:19 variavelqExpA.png\n"
     ]
    }
   ],
   "source": [
    "!ls -ltr"
   ]
  },
  {
   "cell_type": "markdown",
   "metadata": {
    "kernel": "SoS"
   },
   "source": [
    "![Variavel q](kfs2d_rna_mirror/output/full/variavelqExpA.png)"
   ]
  },
  {
   "cell_type": "code",
   "execution_count": null,
   "metadata": {
    "kernel": "SoS"
   },
   "outputs": [],
   "source": []
  }
 ],
 "metadata": {
  "kernelspec": {
   "display_name": "SoS",
   "language": "sos",
   "name": "sos"
  },
  "language_info": {
   "codemirror_mode": "sos",
   "file_extension": ".sos",
   "mimetype": "text/x-sos",
   "name": "sos",
   "nbconvert_exporter": "sos_notebook.converter.SoS_Exporter",
   "pygments_lexer": "sos"
  },
  "sos": {
   "kernels": [
    [
     "Octave",
     "octave",
     "Octave",
     "#dff8fb",
     ""
    ],
    [
     "Python 3",
     "python3",
     "python3",
     "",
     {
      "name": "ipython",
      "version": 3
     }
    ],
    [
     "SoS",
     "sos",
     "",
     "",
     "sos"
    ]
   ],
   "panel": {
    "displayed": false,
    "height": 0
   },
   "version": "0.22.3"
  }
 },
 "nbformat": 4,
 "nbformat_minor": 4
}
