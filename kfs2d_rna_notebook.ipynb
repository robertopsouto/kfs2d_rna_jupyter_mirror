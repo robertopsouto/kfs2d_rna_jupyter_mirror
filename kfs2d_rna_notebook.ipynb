{
 "cells": [
  {
   "cell_type": "code",
   "execution_count": null,
   "metadata": {
    "kernel": "SoS"
   },
   "outputs": [],
   "source": [
    "!git clone https://github.com/robertopsouto/kfs2d_rna_mirror.git"
   ]
  },
  {
   "cell_type": "code",
   "execution_count": 1,
   "metadata": {
    "kernel": "SoS"
   },
   "outputs": [
    {
     "name": "stdout",
     "output_type": "stream",
     "text": [
      "/home/rpsouto/projetos/g-assimila/gitlab/g-assimila/shallow-water/kfs2d_rna_jupyter/kfs2d_rna_mirror"
     ]
    }
   ],
   "source": [
    "%cd kfs2d_rna_mirror"
   ]
  },
  {
   "cell_type": "code",
   "execution_count": null,
   "metadata": {
    "kernel": "SoS"
   },
   "outputs": [],
   "source": [
    "!make"
   ]
  },
  {
   "cell_type": "code",
   "execution_count": 2,
   "metadata": {
    "kernel": "SoS"
   },
   "outputs": [
    {
     "name": "stdout",
     "output_type": "stream",
     "text": [
      " ./KFS2d 1 10 10 100 10 2 2 0.1 10\n",
      " command_argument_count():            9\n",
      " freqObsX: 2     \n",
      " freqObsY: 2     \n",
      " percNoise: 0.1   \n",
      " neuronNumber: 10    \n",
      " SALVOU CONDICAO INICIAL - qInitialCondExpA.out\n",
      " SALVOU RESULTADO DA INTEGRACAO DO MODELO - qModelExpA.out\n",
      " Gerou o ruido que sera adicionado ao modelo - gerando as observacoes \n",
      " SALVOU AS OBSERVACOES -- MODELO + Rand - qObservExpA.out\n",
      " Inicializou a freqAssim\n",
      " Inicializando as matrizes 1\n",
      " Inicializando as matrizes 2\n",
      " Inicializando as matrizes 3\n",
      " Inicializando as matrizes 4\n",
      " Inicializando as matrizes 5\n",
      " Inicializando as matrizes 6\n",
      " Inicializando as matrizes 7\n",
      " Inicializando as matrizes 8\n",
      " Inicializando as matrizes 9\n",
      " Inicializando as matrizes 10\n",
      " Completando as matrizes com valores apropriados\n",
      " FK Assimilation cycle - timeStep          10\n",
      " Primeira chamada dgemm\n",
      " Passou pela equacao 3.60\n",
      " Segunda chamada dgemm\n",
      " Terceira chamada dgemm\n",
      " Invertendo matriz\n",
      " Store A in Ainv\n",
      " Ainv = A\n",
      " call DGETRF\n",
      " Quarta chamada dgemm\n",
      " Quinta chamada dgemm\n",
      " Passou pela equacao 3.61\n",
      " Passou pela equacao 3.62\n",
      " Passou pela equacao 3.63\n",
      " passou pela equacao 3.64\n",
      " FK Assimilation time:    1.1382239999999999               10\n",
      " FK Assimilation cycle - timeStep          20\n",
      " Primeira chamada dgemm\n",
      " Passou pela equacao 3.60\n",
      " Segunda chamada dgemm\n",
      " Terceira chamada dgemm\n",
      " Invertendo matriz\n",
      " Store A in Ainv\n",
      " Ainv = A\n",
      " call DGETRF\n",
      " Quarta chamada dgemm\n",
      " Quinta chamada dgemm\n",
      " Passou pela equacao 3.61\n",
      " Passou pela equacao 3.62\n",
      " Passou pela equacao 3.63\n",
      " passou pela equacao 3.64\n",
      " FK Assimilation time:   0.45374000000000003               20\n",
      " FK Assimilation cycle - timeStep          30\n",
      " Primeira chamada dgemm\n",
      " Passou pela equacao 3.60\n",
      " Segunda chamada dgemm\n",
      " Terceira chamada dgemm\n",
      " Invertendo matriz\n",
      " Store A in Ainv\n",
      " Ainv = A\n",
      " call DGETRF\n",
      " Quarta chamada dgemm\n",
      " Quinta chamada dgemm\n",
      " Passou pela equacao 3.61\n",
      " Passou pela equacao 3.62\n",
      " Passou pela equacao 3.63\n",
      " passou pela equacao 3.64\n",
      " FK Assimilation time:   0.50372500000000020               30\n",
      " FK Assimilation cycle - timeStep          40\n",
      " Primeira chamada dgemm\n",
      " Passou pela equacao 3.60\n",
      " Segunda chamada dgemm\n",
      " Terceira chamada dgemm\n",
      " Invertendo matriz\n",
      " Store A in Ainv\n",
      " Ainv = A\n",
      " call DGETRF\n",
      " Quarta chamada dgemm\n",
      " Quinta chamada dgemm\n",
      " Passou pela equacao 3.61\n",
      " Passou pela equacao 3.62\n",
      " Passou pela equacao 3.63\n",
      " passou pela equacao 3.64\n",
      " FK Assimilation time:   0.53782800000000019               40\n",
      " FK Assimilation cycle - timeStep          50\n",
      " Primeira chamada dgemm\n",
      " Passou pela equacao 3.60\n",
      " Segunda chamada dgemm\n",
      " Terceira chamada dgemm\n",
      " Invertendo matriz\n",
      " Store A in Ainv\n",
      " Ainv = A\n",
      " call DGETRF\n",
      " Quarta chamada dgemm\n",
      " Quinta chamada dgemm\n",
      " Passou pela equacao 3.61\n",
      " Passou pela equacao 3.62\n",
      " Passou pela equacao 3.63\n",
      " passou pela equacao 3.64\n",
      " FK Assimilation time:   0.78747400000000001               50\n",
      " FK Assimilation cycle - timeStep          60\n",
      " Primeira chamada dgemm\n",
      " Passou pela equacao 3.60\n",
      " Segunda chamada dgemm\n",
      " Terceira chamada dgemm\n",
      " Invertendo matriz\n",
      " Store A in Ainv\n",
      " Ainv = A\n",
      " call DGETRF\n",
      " Quarta chamada dgemm\n",
      " Quinta chamada dgemm\n",
      " Passou pela equacao 3.61\n",
      " Passou pela equacao 3.62\n",
      " Passou pela equacao 3.63\n",
      " passou pela equacao 3.64\n",
      " FK Assimilation time:   0.63474899999999979               60\n",
      " FK Assimilation cycle - timeStep          70\n",
      " Primeira chamada dgemm\n",
      " Passou pela equacao 3.60\n",
      " Segunda chamada dgemm\n",
      " Terceira chamada dgemm\n",
      " Invertendo matriz\n",
      " Store A in Ainv\n",
      " Ainv = A\n",
      " call DGETRF\n",
      " Quarta chamada dgemm\n",
      " Quinta chamada dgemm\n",
      " Passou pela equacao 3.61\n",
      " Passou pela equacao 3.62\n",
      " Passou pela equacao 3.63\n",
      " passou pela equacao 3.64\n",
      " FK Assimilation time:   0.98600200000000005               70\n",
      " FK Assimilation cycle - timeStep          80\n",
      " Primeira chamada dgemm\n",
      " Passou pela equacao 3.60\n",
      " Segunda chamada dgemm\n",
      " Terceira chamada dgemm\n",
      " Invertendo matriz\n",
      " Store A in Ainv\n",
      " Ainv = A\n",
      " call DGETRF\n",
      " Quarta chamada dgemm\n",
      " Quinta chamada dgemm\n",
      " Passou pela equacao 3.61\n",
      " Passou pela equacao 3.62\n",
      " Passou pela equacao 3.63\n",
      " passou pela equacao 3.64\n",
      " FK Assimilation time:   0.50795200000000040               80\n",
      " FK Assimilation cycle - timeStep          90\n",
      " Primeira chamada dgemm\n",
      " Passou pela equacao 3.60\n",
      " Segunda chamada dgemm\n",
      " Terceira chamada dgemm\n",
      " Invertendo matriz\n",
      " Store A in Ainv\n",
      " Ainv = A\n",
      " call DGETRF\n",
      " Quarta chamada dgemm\n",
      " Quinta chamada dgemm\n",
      " Passou pela equacao 3.61\n",
      " Passou pela equacao 3.62\n",
      " Passou pela equacao 3.63\n",
      " passou pela equacao 3.64\n",
      " FK Assimilation time:   0.66621400000000008               90\n",
      " FK Assimilation cycle - timeStep         100\n",
      " Primeira chamada dgemm\n",
      " Passou pela equacao 3.60\n",
      " Segunda chamada dgemm\n",
      " Terceira chamada dgemm\n",
      " Invertendo matriz\n",
      " Store A in Ainv\n",
      " Ainv = A\n",
      " call DGETRF\n",
      " Quarta chamada dgemm\n",
      " Quinta chamada dgemm\n",
      " Passou pela equacao 3.61\n",
      " Passou pela equacao 3.62\n",
      " Passou pela equacao 3.63\n",
      " passou pela equacao 3.64\n",
      " FK Assimilation time:   0.71375600000000006              100\n",
      " Total Process time:    7.3669399999999996     \n",
      " FIM\n",
      "Copiando o resultado da assimilacao por FK e os dados para treinamento da RNA.\n"
     ]
    }
   ],
   "source": [
    "!./run-KFS2d.sh 1 10 10 100 10 2 2 0.1 10"
   ]
  },
  {
   "cell_type": "code",
   "execution_count": 3,
   "metadata": {
    "kernel": "SoS"
   },
   "outputs": [
    {
     "name": "stdout",
     "output_type": "stream",
     "text": [
      "/home/rpsouto/projetos/g-assimila/gitlab/g-assimila/shallow-water/kfs2d_rna_jupyter/kfs2d_rna_mirror/resultados/percNoise_0.1/output-gridX_10-gridY_10-timestep_100-freqObsT_10-freqObsX_2-freqObsY_2/training"
     ]
    }
   ],
   "source": [
    "%cd resultados/percNoise_0.1/output-gridX_10-gridY_10-timestep_100-freqObsT_10-freqObsX_2-freqObsY_2/training/"
   ]
  },
  {
   "cell_type": "code",
   "execution_count": 4,
   "metadata": {
    "kernel": "Octave"
   },
   "outputs": [],
   "source": [
    "%--------------------------------------------------------------------------\n",
    "% programa para normalizar os valores da variavel para usar no treinamento da RNA/MPCA\n",
    "%--------------------------------------------------------------------------\n",
    "clear all;\n",
    "close all; clc;\n",
    "%-----------------------\n",
    "%leitura dos dados\n",
    "%-----------------------\n",
    "qM = load('qModelExpA.out');\n",
    "qO = load('qObservExpA.out');\n",
    "qA = load('qAnalysisExpA.out');\n",
    "\n",
    "valNormInf=-1.0;\n",
    "valNormSup=+1.0;\n",
    "\n",
    "qM_norm=(max(qM)*valNormInf-min(qM)*valNormSup+qM*(valNormSup-valNormInf))/(max(qM)-min(qM));\n",
    "qO_norm=(max(qO)*valNormInf-min(qO)*valNormSup+qO*(valNormSup-valNormInf))/(max(qO)-min(qO));\n",
    "qA_norm=(max(qA)*valNormInf-min(qA)*valNormSup+qA*(valNormSup-valNormInf))/(max(qA)-min(qA));\n",
    "\n",
    "[l,n]=size(qM);\n",
    "pontos_por_ciclo=25;\n",
    "ciclos=n/pontos_por_ciclo;\n",
    "\n",
    "parc1 = floor(0.60*ciclos)*pontos_por_ciclo;\n",
    "parc2 = ceil(0.10*ciclos)*pontos_por_ciclo;\n",
    "parc3 = n - parc1 - parc2;\n",
    "\n",
    "train_range=parc1;\n",
    "valid_init=train_range+1;\n",
    "valid_end=train_range+parc2;\n",
    "gen_init=valid_end+1;\n",
    "gen_end=valid_end+parc3;;\n",
    "\n",
    "fileID = fopen('x.txt','w');\n",
    "fprintf(fileID,'      %8.5f',qM_norm(1:train_range));\n",
    "fprintf(fileID,'\\n');\n",
    "fclose(fileID);\n",
    "fileID = fopen('x.txt','a');\n",
    "fprintf(fileID,'      %8.5f',qO_norm(1:train_range));\n",
    "fprintf(fileID,'\\n');\n",
    "fclose(fileID);\n",
    "fileID = fopen('y.txt','w');\n",
    "fprintf(fileID,'      %8.5f',qA_norm(1:train_range));\n",
    "fprintf(fileID,'\\n');\n",
    "fclose(fileID);\n",
    "\n",
    "fileID = fopen('x_valid.txt','w');\n",
    "fprintf(fileID,'      %8.5f',qM_norm(valid_init:valid_end));\n",
    "fprintf(fileID,'\\n');\n",
    "fclose(fileID);\n",
    "fileID = fopen('x_valid.txt','a');\n",
    "fprintf(fileID,'      %8.5f',qO_norm(valid_init:valid_end));\n",
    "fprintf(fileID,'\\n');\n",
    "fclose(fileID);\n",
    "fileID = fopen('y_valid.txt','w');\n",
    "fprintf(fileID,'      %8.5f',qA_norm(valid_init:valid_end));\n",
    "fprintf(fileID,'\\n');\n",
    "fclose(fileID);\n",
    "\n",
    "fileID = fopen('x_gen.txt','w');\n",
    "fprintf(fileID,'      %8.5f',qM_norm(gen_init:gen_end));\n",
    "fprintf(fileID,'\\n');\n",
    "fclose(fileID);\n",
    "fileID = fopen('x_gen.txt','a');\n",
    "fprintf(fileID,'      %8.5f',qO_norm(gen_init:gen_end));\n",
    "fprintf(fileID,'\\n');\n",
    "fclose(fileID);\n",
    "fileID = fopen('y_gen.txt','w');\n",
    "fprintf(fileID,'      %8.5f',qA_norm(gen_init:gen_end));\n",
    "fprintf(fileID,'\\n');\n",
    "fclose(fileID);\n"
   ]
  },
  {
   "cell_type": "code",
   "execution_count": 10,
   "metadata": {
    "kernel": "Octave"
   },
   "outputs": [
    {
     "name": "stdout",
     "output_type": "stream",
     "text": [
      "parc1 = 150\r\n"
     ]
    }
   ],
   "source": [
    "parc1"
   ]
  },
  {
   "cell_type": "code",
   "execution_count": 11,
   "metadata": {
    "kernel": "Octave"
   },
   "outputs": [
    {
     "name": "stdout",
     "output_type": "stream",
     "text": [
      "parc2 = 25\r\n"
     ]
    }
   ],
   "source": [
    "parc2"
   ]
  },
  {
   "cell_type": "code",
   "execution_count": 12,
   "metadata": {
    "kernel": "Octave"
   },
   "outputs": [
    {
     "name": "stdout",
     "output_type": "stream",
     "text": [
      "parc3 = 75\r\n"
     ]
    }
   ],
   "source": [
    "parc3"
   ]
  },
  {
   "cell_type": "code",
   "execution_count": 5,
   "metadata": {
    "kernel": "SoS"
   },
   "outputs": [
    {
     "name": "stdout",
     "output_type": "stream",
     "text": [
      "total 48\n",
      "-rw-rw-r-- 1 rpsouto rpsouto   71 abr 13 08:16 README.md\n",
      "-rw-rw-r-- 1 rpsouto rpsouto 2235 abr 13 08:16 normalizar.m\n",
      "-rw-rw-r-- 1 rpsouto rpsouto 4001 abr 13 08:34 qObservExpA.out\n",
      "-rw-rw-r-- 1 rpsouto rpsouto 4001 abr 13 08:34 qModelExpA.out\n",
      "-rw-rw-r-- 1 rpsouto rpsouto 4001 abr 13 08:34 qAnalysisExpA.out\n",
      "-rw-rw-r-- 1 rpsouto rpsouto 4202 abr 13 08:35 x.txt\n",
      "-rw-rw-r-- 1 rpsouto rpsouto 2101 abr 13 08:35 y.txt\n",
      "-rw-rw-r-- 1 rpsouto rpsouto  702 abr 13 08:35 x_valid.txt\n",
      "-rw-rw-r-- 1 rpsouto rpsouto  351 abr 13 08:35 y_valid.txt\n",
      "-rw-rw-r-- 1 rpsouto rpsouto 2102 abr 13 08:35 x_gen.txt\n",
      "-rw-rw-r-- 1 rpsouto rpsouto 1051 abr 13 08:35 y_gen.txt\n"
     ]
    }
   ],
   "source": [
    "!ls -ltr"
   ]
  },
  {
   "cell_type": "code",
   "execution_count": null,
   "metadata": {
    "kernel": "SoS"
   },
   "outputs": [],
   "source": []
  },
  {
   "cell_type": "code",
   "execution_count": 6,
   "metadata": {
    "kernel": "SoS"
   },
   "outputs": [
    {
     "name": "stdout",
     "output_type": "stream",
     "text": [
      "/home/rpsouto/projetos/g-assimila/gitlab/g-assimila/shallow-water/kfs2d_rna_jupyter/kfs2d_rna_mirror/resultados"
     ]
    }
   ],
   "source": [
    "%cd ../../../../../"
   ]
  },
  {
   "cell_type": "code",
   "execution_count": null,
   "metadata": {
    "kernel": "SoS"
   },
   "outputs": [],
   "source": [
    "!git clone https://github.com/scsr-inpe/mpca-ann.git"
   ]
  },
  {
   "cell_type": "code",
   "execution_count": 8,
   "metadata": {
    "kernel": "SoS"
   },
   "outputs": [
    {
     "name": "stdout",
     "output_type": "stream",
     "text": [
      "/home/rpsouto/projetos/g-assimila/gitlab/g-assimila/shallow-water/kfs2d_rna_jupyter/mpca-ann"
     ]
    }
   ],
   "source": [
    "%cd mpca-ann"
   ]
  },
  {
   "cell_type": "code",
   "execution_count": null,
   "metadata": {
    "kernel": "SoS"
   },
   "outputs": [],
   "source": [
    "!make clean"
   ]
  },
  {
   "cell_type": "code",
   "execution_count": null,
   "metadata": {
    "kernel": "SoS"
   },
   "outputs": [],
   "source": [
    "!make"
   ]
  },
  {
   "cell_type": "code",
   "execution_count": 9,
   "metadata": {
    "kernel": "SoS"
   },
   "outputs": [],
   "source": [
    "!cp ../kfs2d_rna_mirror/resultados/percNoise_0.1/output-gridX_10-gridY_10-timestep_100-freqObsT_10-freqObsX_2-freqObsY_2/training/*.txt data/"
   ]
  },
  {
   "cell_type": "code",
   "execution_count": 13,
   "metadata": {
    "kernel": "SoS"
   },
   "outputs": [],
   "source": [
    "%get parc1 --from Octave"
   ]
  },
  {
   "cell_type": "code",
   "execution_count": 15,
   "metadata": {
    "kernel": "SoS"
   },
   "outputs": [],
   "source": [
    "%get parc2 --from Octave"
   ]
  },
  {
   "cell_type": "code",
   "execution_count": 16,
   "metadata": {
    "kernel": "SoS"
   },
   "outputs": [],
   "source": [
    "%get parc3 --from Octave"
   ]
  },
  {
   "cell_type": "code",
   "execution_count": 17,
   "metadata": {
    "kernel": "SoS"
   },
   "outputs": [
    {
     "name": "stdout",
     "output_type": "stream",
     "text": [
      "/home/rpsouto/projetos/g-assimila/gitlab/g-assimila/shallow-water/kfs2d_rna_jupyter/mpca-ann/config"
     ]
    }
   ],
   "source": [
    "%cd config/"
   ]
  },
  {
   "cell_type": "code",
   "execution_count": 1,
   "metadata": {
    "kernel": "SoS"
   },
   "outputs": [
    {
     "name": "stdout",
     "output_type": "stream",
     "text": [
      "/home/rpsouto/projetos/g-assimila/gitlab/g-assimila/shallow-water/kfs2d_rna_jupyter/mpca-ann/config"
     ]
    }
   ],
   "source": [
    "%cd /home/rpsouto/projetos/g-assimila/gitlab/g-assimila/shallow-water/kfs2d_rna_jupyter/mpca-ann/config"
   ]
  },
  {
   "cell_type": "code",
   "execution_count": 3,
   "metadata": {
    "kernel": "SoS"
   },
   "outputs": [],
   "source": [
    "!sed -i -e 's/NCLASSES=2000/NCLASSES=150/g' \\\n",
    "        -e 's/NCLASSESVALIDATION=600/NCLASSESVALIDATION=25/g' \\\n",
    "        -e 's/UPPER_HIDDEN_LAYERS=2/UPPER_HIDDEN_LAYERS=1/g' \\\n",
    "        -e 's/LOWER_FIRST_HIDDEN_LAYER=5/LOWER_FIRST_HIDDEN_LAYER=10/g' \\\n",
    "        -e 's/UPPER_FIRST_HIDDEN_LAYER=25/UPPER_FIRST_HIDDEN_LAYER=10/g' \\\n",
    "        -e 's/LOWER_ACTIVATION_FUNCTION=1/LOWER_ACTIVATION_FUNCTION=2/g' \\\n",
    "        -e 's/UPPER_ACTIVATION_FUNCTION=3/UPPER_ACTIVATION_FUNCTION=2/g' \\\n",
    "        configuration.ini"
   ]
  },
  {
   "cell_type": "code",
   "execution_count": 4,
   "metadata": {
    "kernel": "SoS"
   },
   "outputs": [
    {
     "name": "stdout",
     "output_type": "stream",
     "text": [
      "/home/rpsouto/projetos/g-assimila/gitlab/g-assimila/shallow-water/kfs2d_rna_jupyter/mpca-ann"
     ]
    }
   ],
   "source": [
    "%cd .."
   ]
  },
  {
   "cell_type": "code",
   "execution_count": 5,
   "metadata": {
    "kernel": "SoS"
   },
   "outputs": [
    {
     "name": "stdout",
     "output_type": "stream",
     "text": [
      "make: Nothing to be done for 'all'.\n",
      "\u001b[H\u001b[2J\u001b[0;1m************************************************************\u001b[m\n",
      "\n",
      "\u001b[0;1m                       \u001b[0mExperiment   1\u001b[0;1m                       \u001b[m\n",
      "\n",
      "\u001b[0;1m************************************************************\u001b[m\n",
      "\n",
      "NFE (total):                 1000 of       1000\n",
      "\u001b[0;1mBest objective function value: \u001b[0m4.8960 x (10^ -2)\u001b[m\n",
      "\u001b[0;1mNumber of hidden layers: \u001b[0m 1\u001b[m\n",
      "\u001b[0;1mNeurons in hidden layer 1: \u001b[0m10\u001b[m\n",
      "\u001b[0;1mActivation function: \u001b[0m 2\u001b[m\n",
      "\u001b[0;1mAlpha: \u001b[0m0.1681\u001b[m\n",
      "\u001b[0;1mEta: \u001b[0m0.5473\u001b[m\n",
      "\u001b[0;1;4m                                                            \u001b[m\n",
      "\u001b[0m                                                            \u001b[0m\u001b[m\n",
      "\u001b[0;1m************************************************************\u001b[m\n",
      "\n",
      "\u001b[0;1m                       \u001b[0mExperiment   2\u001b[0;1m                       \u001b[m\n",
      "\n",
      "\u001b[0;1m************************************************************\u001b[m\n",
      "\n",
      "NFE (total):                 1000 of       1000\n",
      "\u001b[0;1mBest objective function value: \u001b[0m4.9295 x (10^ -2)\u001b[m\n",
      "\u001b[0;1mNumber of hidden layers: \u001b[0m 1\u001b[m\n",
      "\u001b[0;1mNeurons in hidden layer 1: \u001b[0m10\u001b[m\n",
      "\u001b[0;1mActivation function: \u001b[0m 2\u001b[m\n",
      "\u001b[0;1mAlpha: \u001b[0m0.3790\u001b[m\n",
      "\u001b[0;1mEta: \u001b[0m0.5416\u001b[m\n",
      "\u001b[0;1;4m                                                            \u001b[m\n",
      "\u001b[0m                                                            \u001b[0m\u001b[m\n",
      "\u001b[0;1m************************************************************\u001b[m\n",
      "\n",
      "\u001b[0;1m                       \u001b[0mExperiment   3\u001b[0;1m                       \u001b[m\n",
      "\n",
      "\u001b[0;1m************************************************************\u001b[m\n",
      "\n",
      "NFE (total):                 1000 of       1000\n",
      "\u001b[0;1mBest objective function value: \u001b[0m4.8773 x (10^ -2)\u001b[m\n",
      "\u001b[0;1mNumber of hidden layers: \u001b[0m 1\u001b[m\n",
      "\u001b[0;1mNeurons in hidden layer 1: \u001b[0m10\u001b[m\n",
      "\u001b[0;1mActivation function: \u001b[0m 2\u001b[m\n",
      "\u001b[0;1mAlpha: \u001b[0m0.1632\u001b[m\n",
      "\u001b[0;1mEta: \u001b[0m0.8645\u001b[m\n",
      "\u001b[0;1;4m                                                            \u001b[m\n",
      "\u001b[0m                                                            \u001b[0m\u001b[m\n",
      "\u001b[0;1m************************************************************\u001b[m\n",
      "\n",
      "\u001b[0;1m                       \u001b[0mExperiment   4\u001b[0;1m                       \u001b[m\n",
      "\n",
      "\u001b[0;1m************************************************************\u001b[m\n",
      "\n",
      "NFE (total):                 1000 of       1000\n",
      "\u001b[0;1mBest objective function value: \u001b[0m4.8922 x (10^ -2)\u001b[m\n",
      "\u001b[0;1mNumber of hidden layers: \u001b[0m 1\u001b[m\n",
      "\u001b[0;1mNeurons in hidden layer 1: \u001b[0m10\u001b[m\n",
      "\u001b[0;1mActivation function: \u001b[0m 2\u001b[m\n",
      "\u001b[0;1mAlpha: \u001b[0m0.0732\u001b[m\n",
      "\u001b[0;1mEta: \u001b[0m0.6051\u001b[m\n",
      "\u001b[0;1;4m                                                            \u001b[m\n",
      "\u001b[0m                                                            \u001b[0m\u001b[m\n"
     ]
    }
   ],
   "source": [
    "!./runMPCA 4 2"
   ]
  },
  {
   "cell_type": "code",
   "execution_count": 6,
   "metadata": {
    "kernel": "SoS"
   },
   "outputs": [
    {
     "name": "stdout",
     "output_type": "stream",
     "text": [
      "           4\n",
      "           2\n",
      "         600\n",
      "           2\n",
      "           1\n",
      "           1\n",
      "          10\n",
      "           0\n",
      "           2\n",
      "           1\n",
      "          10\n",
      "           0\n",
      "           2\n",
      " ./output/ann3_1.out\n",
      "   4.8772629999999997E-002\n",
      "   5.1058350000000002E-002\n",
      " ./output/ann3_2.out\n",
      "   4.8772629999999997E-002\n",
      "   4.8753230000000002E-002\n"
     ]
    }
   ],
   "source": [
    "!./annMLP 4 2"
   ]
  },
  {
   "cell_type": "code",
   "execution_count": 7,
   "metadata": {
    "kernel": "SoS"
   },
   "outputs": [],
   "source": [
    "!cp output/ann3.best ../kfs2d_rna_mirror/data/"
   ]
  },
  {
   "cell_type": "code",
   "execution_count": 8,
   "metadata": {
    "kernel": "SoS"
   },
   "outputs": [
    {
     "name": "stdout",
     "output_type": "stream",
     "text": [
      "/home/rpsouto/projetos/g-assimila/gitlab/g-assimila/shallow-water/kfs2d_rna_jupyter/kfs2d_rna_mirror"
     ]
    }
   ],
   "source": [
    "%cd ../kfs2d_rna_mirror/data/"
   ]
  },
  {
   "cell_type": "code",
   "execution_count": 11,
   "metadata": {
    "kernel": "SoS"
   },
   "outputs": [],
   "source": [
    "!./pesos_vies.sh ann3.best"
   ]
  },
  {
   "cell_type": "code",
   "execution_count": 12,
   "metadata": {
    "kernel": "SoS"
   },
   "outputs": [
    {
     "name": "stdout",
     "output_type": "stream",
     "text": [
      "total 28\n",
      "-rw-rw-r-- 1 rpsouto rpsouto  40 abr 13 08:16 README.md\n",
      "-rwxrwxr-x 1 rpsouto rpsouto 279 abr 13 08:16 pesos_vies.sh\n",
      "-rw-rw-r-- 1 rpsouto rpsouto 688 abr 13 09:15 ann3.best\n",
      "-rw-rw-r-- 1 rpsouto rpsouto 222 abr 13 09:19 wqcoExpA.dat\n",
      "-rw-rw-r-- 1 rpsouto rpsouto 111 abr 13 09:19 bqcoExpA.dat\n",
      "-rw-rw-r-- 1 rpsouto rpsouto 120 abr 13 09:19 wqcsExpA.dat\n",
      "-rw-rw-r-- 1 rpsouto rpsouto  12 abr 13 09:19 bqcsExpA.dat\n"
     ]
    }
   ],
   "source": [
    "!ls -ltr"
   ]
  },
  {
   "cell_type": "code",
   "execution_count": 13,
   "metadata": {
    "kernel": "SoS"
   },
   "outputs": [
    {
     "name": "stdout",
     "output_type": "stream",
     "text": [
      "/home/rpsouto/projetos/g-assimila/gitlab/g-assimila/shallow-water/kfs2d_rna_jupyter/kfs2d_rna_mirror"
     ]
    }
   ],
   "source": [
    "%cd ../"
   ]
  },
  {
   "cell_type": "code",
   "execution_count": 15,
   "metadata": {
    "kernel": "SoS"
   },
   "outputs": [
    {
     "name": "stdout",
     "output_type": "stream",
     "text": [
      "rm: não foi possível remover 'output/training/*.out': Arquivo ou diretório inexistente\n",
      " ./KFS2d 2 10 10 100 10 2 2 0.1 10\n",
      " command_argument_count():            9\n",
      " freqObsX: 2     \n",
      " freqObsY: 2     \n",
      " percNoise: 0.1   \n",
      " neuronNumber: 10    \n",
      " SALVOU CONDICAO INICIAL - qInitialCondExpA.out\n",
      " SALVOU RESULTADO DA INTEGRACAO DO MODELO - qModelExpA.out\n",
      " Gerou o ruido que sera adicionado ao modelo - gerando as observacoes \n",
      " SALVOU AS OBSERVACOES -- MODELO + Rand - qObservExpA.out\n",
      " Inicializou a freqAssim\n",
      " Inicializando as matrizes 1\n",
      " Inicializando as matrizes 2\n",
      " Inicializando as matrizes 3\n",
      " Inicializando as matrizes 4\n",
      " Inicializando as matrizes 5\n",
      " Inicializando as matrizes 6\n",
      " Inicializando as matrizes 7\n",
      " Inicializando as matrizes 8\n",
      " Inicializando as matrizes 9\n",
      " Inicializando as matrizes 10\n",
      " Completando as matrizes com valores apropriados\n",
      " Normalizando os dados para RNA\n",
      " ANN Assimilation cycle - timeStep          10\n",
      " TUDO PRONTO PARA A RNA\n",
      " PASSAMOS PELA RNA\n",
      " ANN Assimilation time:    8.0099999999999616E-004          10\n",
      " ANN Assimilation cycle - timeStep          20\n",
      " TUDO PRONTO PARA A RNA\n",
      " PASSAMOS PELA RNA\n",
      " ANN Assimilation time:    6.4399999999997792E-004          20\n",
      " ANN Assimilation cycle - timeStep          30\n",
      " TUDO PRONTO PARA A RNA\n",
      " PASSAMOS PELA RNA\n",
      " ANN Assimilation time:    3.9200000000000346E-004          30\n",
      " ANN Assimilation cycle - timeStep          40\n",
      " TUDO PRONTO PARA A RNA\n",
      " PASSAMOS PELA RNA\n",
      " ANN Assimilation time:    4.5800000000001395E-004          40\n",
      " ANN Assimilation cycle - timeStep          50\n",
      " TUDO PRONTO PARA A RNA\n",
      " PASSAMOS PELA RNA\n",
      " ANN Assimilation time:    4.5700000000004071E-004          50\n",
      " ANN Assimilation cycle - timeStep          60\n",
      " TUDO PRONTO PARA A RNA\n",
      " PASSAMOS PELA RNA\n",
      " ANN Assimilation time:    4.6899999999999720E-004          60\n",
      " ANN Assimilation cycle - timeStep          70\n",
      " TUDO PRONTO PARA A RNA\n",
      " PASSAMOS PELA RNA\n",
      " ANN Assimilation time:    4.3800000000004946E-004          70\n",
      " ANN Assimilation cycle - timeStep          80\n",
      " TUDO PRONTO PARA A RNA\n",
      " PASSAMOS PELA RNA\n",
      " ANN Assimilation time:    4.5299999999998120E-004          80\n",
      " ANN Assimilation cycle - timeStep          90\n",
      " TUDO PRONTO PARA A RNA\n",
      " PASSAMOS PELA RNA\n",
      " ANN Assimilation time:    4.9900000000002720E-004          90\n",
      " ANN Assimilation cycle - timeStep         100\n",
      " TUDO PRONTO PARA A RNA\n",
      " PASSAMOS PELA RNA\n",
      " ANN Assimilation time:    3.7400000000004097E-004         100\n",
      " Total Process time:   0.35562800000000000     \n",
      " FIM\n",
      "Copiando o resultado da assimilacao de FK emulada por RNA.\n"
     ]
    }
   ],
   "source": [
    "!./run-KFS2d.sh 2 10 10 100 10 2 2 0.1 10"
   ]
  },
  {
   "cell_type": "code",
   "execution_count": 16,
   "metadata": {
    "kernel": "SoS"
   },
   "outputs": [
    {
     "name": "stdout",
     "output_type": "stream",
     "text": [
      "/home/rpsouto/projetos/g-assimila/gitlab/g-assimila/shallow-water/kfs2d_rna_jupyter/kfs2d_rna_mirror/resultados/percNoise_0.1/output-gridX_10-gridY_10-timestep_100-freqObsT_10-freqObsX_2-freqObsY_2/full"
     ]
    }
   ],
   "source": [
    "%cd resultados/percNoise_0.1/output-gridX_10-gridY_10-timestep_100-freqObsT_10-freqObsX_2-freqObsY_2/full/"
   ]
  },
  {
   "cell_type": "code",
   "execution_count": 17,
   "metadata": {
    "kernel": "Octave"
   },
   "outputs": [
    {
     "name": "stdout",
     "output_type": "stream",
     "text": [
      "ans = -9.5540\n",
      "warning: your version of GraphicsMagick limits images to 8 bits per pixel\n"
     ]
    },
    {
     "data": {
      "image/png": "[encoded data removed]",
      "text/plain": [
       "<IPython.core.display.Image object>"
      ]
     },
     "metadata": {},
     "output_type": "display_data"
    }
   ],
   "source": [
    "%--------------------------------------------------------------------------\n",
    "% programa para plotar os graficos\n",
    "%--------------------------------------------------------------------------\n",
    "clear all;\n",
    "close all; clc;\n",
    "%-----------------------\n",
    "%leitura dos dados\n",
    "%-----------------------\n",
    "qm = load('qModelExpA.out');\n",
    "qa = load('qAnalysisExpA.out');\n",
    "% dado da rede\n",
    "qar = load('qAnalysisExpA_RNA.out');\n",
    "%\n",
    "ni = 10;\n",
    "nj = ni;\n",
    "nk = 100;\n",
    "%\n",
    "ninj = ni*nj;\n",
    "p = 7; % ponto\n",
    "%\n",
    "% dado do modelo\n",
    "qm3D = reshape(qm,ni,nj,nk);\n",
    "qpm10 = qm3D(p,p,:);\n",
    "qpm10v = qpm10(:);\n",
    "%\n",
    "%valor estimado pelo Filtro de Kalman\n",
    "qafk3D = reshape(qa,ni,nj,nk);\n",
    "qpa10 = qafk3D(p,p,:);\n",
    "qpa10v = qpa10(:);\n",
    "%\n",
    "%estimado pela Rede Neural\n",
    " qr3D = reshape(qar,ni,nj,nk);\n",
    " qpr10 = qr3D(p,p,:);\n",
    " qpr10v = qpr10(:);\n",
    "%\n",
    "figure(1)\n",
    "plot(qpm10v,'b','linewidth',0.5); hold on;\n",
    "plot(qpa10v,'r','linewidth',0.5);\n",
    "plot(qpr10v,'g','linewidth',0.5);\n",
    "title('variavel q'); grid on;\n",
    "xlabel('tempo');\n",
    "ylabel('q(7,7)');\n",
    "legend('verdade','FK','RNA')\n",
    "axis([1 100 -60 80])\n",
    "%print -depsc variavelqExpA.eps;\n",
    "print -dpng -r240 variavelqExpA.png;"
   ]
  },
  {
   "cell_type": "code",
   "execution_count": 19,
   "metadata": {
    "kernel": "SoS"
   },
   "outputs": [
    {
     "name": "stdout",
     "output_type": "stream",
     "text": [
      "total 688\n",
      "-rw-rw-r-- 1 rpsouto rpsouto     78 abr 13 08:16 README.md\n",
      "-rw-rw-r-- 1 rpsouto rpsouto   1080 abr 13 08:16 fkFigura.m\n",
      "-rw-rw-r-- 1 rpsouto rpsouto 160001 abr 13 08:34 qModelExpA.out\n",
      "-rw-rw-r-- 1 rpsouto rpsouto 160001 abr 13 08:34 qObservExpA.out\n",
      "-rw-rw-r-- 1 rpsouto rpsouto 160001 abr 13 08:34 qAnalysisExpA.out\n",
      "lrwxrwxrwx 1 rpsouto rpsouto     37 abr 13 09:21 qAnalysisExpA_RNA.out -> qAnalysisExpA_RNA-neuronNumber_10.out\n",
      "-rw-rw-r-- 1 rpsouto rpsouto 160001 abr 13 09:21 qAnalysisExpA_RNA-neuronNumber_10.out\n",
      "-rw-rw-r-- 1 rpsouto rpsouto  38093 abr 13 09:24 variavelqExpA.png\n"
     ]
    }
   ],
   "source": [
    "!ls -ltr"
   ]
  },
  {
   "cell_type": "markdown",
   "metadata": {
    "kernel": "SoS"
   },
   "source": [
    "![alt text](variavelqExpA.png)"
   ]
  },
  {
   "cell_type": "code",
   "execution_count": null,
   "metadata": {
    "kernel": "Octave"
   },
   "outputs": [],
   "source": []
  }
 ],
 "metadata": {
  "kernelspec": {
   "display_name": "SoS",
   "language": "sos",
   "name": "sos"
  },
  "language_info": {
   "codemirror_mode": "sos",
   "file_extension": ".sos",
   "mimetype": "text/x-sos",
   "name": "sos",
   "nbconvert_exporter": "sos_notebook.converter.SoS_Exporter",
   "pygments_lexer": "sos"
  },
  "sos": {
   "kernels": [
    [
     "Octave",
     "octave",
     "Octave",
     "#dff8fb",
     ""
    ],
    [
     "SoS",
     "sos",
     "",
     "",
     "sos"
    ]
   ],
   "panel": {
    "displayed": false,
    "height": 0
   },
   "version": "0.22.3"
  }
 },
 "nbformat": 4,
 "nbformat_minor": 4
}
